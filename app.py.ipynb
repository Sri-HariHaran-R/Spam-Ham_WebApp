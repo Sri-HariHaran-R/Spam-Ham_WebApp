{
 "cells": [
  {
   "cell_type": "code",
   "execution_count": 1,
   "id": "b5894c8e",
   "metadata": {},
   "outputs": [],
   "source": [
    "import pickle\n",
    "from flask import Flask,render_template,request"
   ]
  },
  {
   "cell_type": "code",
   "execution_count": 2,
   "id": "66357ae6",
   "metadata": {},
   "outputs": [],
   "source": [
    "app=Flask(__name__)\n",
    "\n",
    "#loading model\n",
    "mnb=pickle.load(open('model.pkl','rb'))\n",
    "cv=pickle.load(open('cv.pkl','rb'))\n",
    "\n",
    "\n",
    "@app.route(\"/\")\n",
    "def page():\n",
    "    return render_template('index.html') #run html file\n",
    "\n",
    "@app.route(\"/predict\",methods=['POST'])\n",
    "def predict():\n",
    "    \n",
    "    if request.method== \"POST\":\n",
    "        sentence=request.form['sentence']\n",
    "\n",
    "        word=[sentence]\n",
    "        vect=cv.transform(word).toarray()\n",
    "\n",
    "        result=int(mnb.predict(vect))\n",
    "        \n",
    "        if result==0:\n",
    "            prediction=\"Ham\"\n",
    "        elif result==1:\n",
    "            prediction=\"Spam\"\n",
    "            \n",
    "    return render_template(\"index.html\",prediction_text=prediction)\n"
   ]
  },
  {
   "cell_type": "code",
   "execution_count": 4,
   "id": "2e51faeb",
   "metadata": {},
   "outputs": [
    {
     "name": "stdout",
     "output_type": "stream",
     "text": [
      " * Serving Flask app '__main__' (lazy loading)\n",
      " * Environment: production\n",
      "\u001b[31m   WARNING: This is a development server. Do not use it in a production deployment.\u001b[0m\n",
      "\u001b[2m   Use a production WSGI server instead.\u001b[0m\n",
      " * Debug mode: off\n"
     ]
    },
    {
     "name": "stderr",
     "output_type": "stream",
     "text": [
      " * Running on http://127.0.0.1:5000 (Press CTRL+C to quit)\n",
      "127.0.0.1 - - [13/Feb/2023 22:41:34] \"GET / HTTP/1.1\" 200 -\n",
      "127.0.0.1 - - [13/Feb/2023 22:41:37] \"POST /predict HTTP/1.1\" 200 -\n",
      "127.0.0.1 - - [13/Feb/2023 22:41:49] \"POST /predict HTTP/1.1\" 200 -\n",
      "127.0.0.1 - - [13/Feb/2023 22:42:00] \"POST /predict HTTP/1.1\" 200 -\n",
      "127.0.0.1 - - [13/Feb/2023 22:42:10] \"POST /predict HTTP/1.1\" 200 -\n",
      "127.0.0.1 - - [13/Feb/2023 22:42:21] \"POST /predict HTTP/1.1\" 200 -\n",
      "127.0.0.1 - - [13/Feb/2023 22:42:30] \"POST /predict HTTP/1.1\" 200 -\n",
      "127.0.0.1 - - [13/Feb/2023 22:42:41] \"POST /predict HTTP/1.1\" 200 -\n",
      "127.0.0.1 - - [13/Feb/2023 22:42:58] \"POST /predict HTTP/1.1\" 200 -\n",
      "127.0.0.1 - - [13/Feb/2023 22:43:17] \"POST /predict HTTP/1.1\" 200 -\n",
      "127.0.0.1 - - [13/Feb/2023 22:43:28] \"POST /predict HTTP/1.1\" 200 -\n",
      "127.0.0.1 - - [13/Feb/2023 22:43:40] \"POST /predict HTTP/1.1\" 200 -\n",
      "127.0.0.1 - - [13/Feb/2023 22:43:49] \"POST /predict HTTP/1.1\" 200 -\n",
      "127.0.0.1 - - [13/Feb/2023 22:44:09] \"POST /predict HTTP/1.1\" 200 -\n"
     ]
    }
   ],
   "source": [
    "if __name__==\"__main__\":\n",
    "    app.run()"
   ]
  },
  {
   "cell_type": "code",
   "execution_count": null,
   "id": "e2d8171d",
   "metadata": {},
   "outputs": [],
   "source": []
  }
 ],
 "metadata": {
  "kernelspec": {
   "display_name": "Python 3 (ipykernel)",
   "language": "python",
   "name": "python3"
  },
  "language_info": {
   "codemirror_mode": {
    "name": "ipython",
    "version": 3
   },
   "file_extension": ".py",
   "mimetype": "text/x-python",
   "name": "python",
   "nbconvert_exporter": "python",
   "pygments_lexer": "ipython3",
   "version": "3.9.12"
  }
 },
 "nbformat": 4,
 "nbformat_minor": 5
}
